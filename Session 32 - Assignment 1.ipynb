{
 "cells": [
  {
   "cell_type": "markdown",
   "metadata": {},
   "source": [
    "Problem Statement\n",
    "\n",
    "In this assignment students have to make ARIMA model over shampoo sales data and check the MSE between predicted and actual value.\n",
    "\n",
    "Student can download data in .csv format from the following link:\n",
    "https://datamarket.com/data/set/22r0/sales-of-shampoo-over-a-three-yearperiod#!ds=22r0&display=line\n",
    "\n",
    "Hint:\n",
    "Following is the command import packages and data\n",
    "from pandas import read_csv\n",
    "from pandas import datetime\n",
    "from matplotlib import pyplot\n",
    "from statsmodels.tsa.arima_model import ARIMA\n",
    "from sklearn.metrics import mean_squared_error\n",
    "def parser(x):\n",
    "return datetime.strptime('190'+x, '%Y-%m')\n",
    "series = read_csv('shampoo-sales.csv', header=0, parse_dates=[0], index_col=0,\n",
    "squeeze=True, date_parser=parser)"
   ]
  },
  {
   "cell_type": "code",
   "execution_count": 2,
   "metadata": {},
   "outputs": [],
   "source": [
    "from pandas import read_csv\n",
    "from pandas import datetime\n",
    "from matplotlib import pyplot\n",
    "from statsmodels.tsa.arima_model import ARIMA\n",
    "from sklearn.metrics import mean_squared_error"
   ]
  },
  {
   "cell_type": "code",
   "execution_count": null,
   "metadata": {},
   "outputs": [],
   "source": [
    "def parser(x):\n",
    "    return datetime.strptime('190'+x, '%Y-%m')\n",
    "series = read_csv('shampoo-sales.csv', header=0, parse_dates=[0], index_col=0,squeeze=True, date_parser=parser)\n",
    "print(series.head())\n",
    "series.plot()\n",
    "pyplot.show()"
   ]
  },
  {
   "cell_type": "code",
   "execution_count": null,
   "metadata": {},
   "outputs": [],
   "source": [
    "#fit model\n",
    "model = ARIMA(series, order=(5,1,0))\n",
    "model_fit = model.fit(disp=0)\n",
    "print(model_fit.summary())\n",
    "# plot residual errors\n",
    "residuals = DataFrame(model_fit.resid)\n",
    "residuals.plot()\n",
    "pyplot.show()\n",
    "residuals.plot(kind='kde')\n",
    "pyplot.show()\n",
    "print(residuals.describe())"
   ]
  },
  {
   "cell_type": "code",
   "execution_count": null,
   "metadata": {},
   "outputs": [],
   "source": [
    "                            ARIMA Model Results\n",
    "==============================================================================\n",
    "Dep. Variable:                D.Sales   No. Observations:                   35\n",
    "Model:                 ARIMA(5, 1, 0)   Log Likelihood                -196.170\n",
    "Method:                       css-mle   S.D. of innovations             64.241\n",
    "Date:                Mon, 12 Dec 2016   AIC                            406.340\n",
    "Time:                        11:09:13   BIC                            417.227\n",
    "Sample:                    02-01-1901   HQIC                           410.098\n",
    "                         - 12-01-1903\n",
    "=================================================================================\n",
    "                    coef    std err          z      P>|z|      [95.0% Conf. Int.]\n",
    "---------------------------------------------------------------------------------\n",
    "const            12.0649      3.652      3.304      0.003         4.908    19.222\n",
    "ar.L1.D.Sales    -1.1082      0.183     -6.063      0.000        -1.466    -0.750\n",
    "ar.L2.D.Sales    -0.6203      0.282     -2.203      0.036        -1.172    -0.068\n",
    "ar.L3.D.Sales    -0.3606      0.295     -1.222      0.231        -0.939     0.218\n",
    "ar.L4.D.Sales    -0.1252      0.280     -0.447      0.658        -0.674     0.424\n",
    "ar.L5.D.Sales     0.1289      0.191      0.673      0.506        -0.246     0.504\n",
    "                                    Roots\n",
    "=============================================================================\n",
    "                 Real           Imaginary           Modulus         Frequency\n",
    "-----------------------------------------------------------------------------\n",
    "AR.1           -1.0617           -0.5064j            1.1763           -0.4292\n",
    "AR.2           -1.0617           +0.5064j            1.1763            0.4292\n",
    "AR.3            0.0816           -1.3804j            1.3828           -0.2406\n",
    "AR.4            0.0816           +1.3804j            1.3828            0.2406\n",
    "AR.5            2.9315           -0.0000j            2.9315           -0.0000"
   ]
  },
  {
   "cell_type": "markdown",
   "metadata": {},
   "source": [
    "END OF ASSIGNMENT"
   ]
  }
 ],
 "metadata": {
  "kernelspec": {
   "display_name": "Python 3",
   "language": "python",
   "name": "python3"
  },
  "language_info": {
   "codemirror_mode": {
    "name": "ipython",
    "version": 3
   },
   "file_extension": ".py",
   "mimetype": "text/x-python",
   "name": "python",
   "nbconvert_exporter": "python",
   "pygments_lexer": "ipython3",
   "version": "3.7.1"
  }
 },
 "nbformat": 4,
 "nbformat_minor": 2
}
